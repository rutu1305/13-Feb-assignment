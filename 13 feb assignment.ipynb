{
 "cells": [
  {
   "cell_type": "code",
   "execution_count": null,
   "id": "0a4db96a-27c5-4aaf-a823-e06af0a58887",
   "metadata": {},
   "outputs": [],
   "source": [
    "1. Custom exceptions provide you the flexibility to add attributes and methods that are not part of a \n",
    "standard Java exception. These can store additional information, like an application-specific error code, or \n",
    "provide utility methods that can be used to handle or present the exception to a user."
   ]
  },
  {
   "cell_type": "code",
   "execution_count": null,
   "id": "73e1d372-941f-41f5-8ac5-bd63c97656f0",
   "metadata": {},
   "outputs": [],
   "source": [
    "2. # import inspect module\n",
    "import inspect\n",
    "  \n",
    "# our treeClass function\n",
    "def treeClass(cls, ind = 0):\n",
    "    \n",
    "      # print name of the class\n",
    "    print ('-' * ind, cls.__name__)\n",
    "      \n",
    "    # iterating through subclasses\n",
    "    for i in cls.__subclasses__():\n",
    "        treeClass(i, ind + 3)\n",
    "  \n",
    "print(\"Hierarchy for Built-in exceptions is : \")\n",
    "  \n",
    "# inspect.getmro() Return a tuple \n",
    "# of class  cls’s base classes.\n",
    "  \n",
    "# building a tree hierarchy \n",
    "inspect.getclasstree(inspect.getmro(BaseException))\n",
    "  \n",
    "# function call\n",
    "treeClass(BaseException)"
   ]
  },
  {
   "cell_type": "code",
   "execution_count": null,
   "id": "87517f06-c49a-47b0-a0bc-077609368d12",
   "metadata": {},
   "outputs": [],
   "source": [
    "3. The arithmetic error occurs when an error is encountered during numeric calculations in Python. This\n",
    "includes Zerodivision Error and Floating point error. In addition, zero division error is raised when you divide \n",
    "a numeric value by zero. When we run this code, we will get a ZeroDivision error\n",
    "Eg:- \n",
    "* Zero division error\n",
    "Code: try:\n",
    "    1/0\n",
    "except ArithmeticError as e:\n",
    "    print(f\"{e}, {e.__class__}\")\n",
    "    \n",
    "Output:division by zero, <class 'ZeroDivisionError'>\n",
    "\n",
    "* Overflow error\n",
    "Code: j = 5.0\n",
    "try:\n",
    "    for i in range(1, 1000):\n",
    "        j = j**i\n",
    "except ArithmeticError as e:\n",
    "    print(f\"{e}, {e.__class__}\")\n",
    "    \n",
    "Output: (34, 'Result too large'), <class 'OverflowError'>"
   ]
  },
  {
   "cell_type": "code",
   "execution_count": null,
   "id": "8158c96d-2d4f-41be-8913-5d5711a049c9",
   "metadata": {},
   "outputs": [],
   "source": [
    "4. LookupError Exception is the Base class for errors raised when something can't be found. The base class \n",
    "for the exceptions that are raised when a key or index used on a mapping or sequence is invalid: IndexError,\n",
    "KeyError. An IndexError is raised when a sequence reference is out of range.\n",
    "\n",
    "* Keyerror:- The Python KeyError is a type of LookupError exception and denotes that there was an issue \n",
    "retrieving the key you were looking for. When you see a KeyError, the semantic meaning is that the key \n",
    "being looked for could not be found.\n",
    "Eg: >>> ages = {'Jim': 30, 'Pam': 28, 'Kevin': 33}\n",
    ">>> ages['Michael']\n",
    "Traceback (most recent call last):\n",
    "  File \"<stdin>\", line 1, in <module>\n",
    "KeyError: 'Michael'\n",
    "\n",
    "* Indexerror:- An IndexError is raised when a sequence reference is out of range\n",
    "Eg:- import sys\n",
    "try:\n",
    "my_list = [3,7, 9, 4, 6]\n",
    "print my_list[6]\n",
    "except IndexError as e:\n",
    "print e\n",
    "print sys.exc_type"
   ]
  },
  {
   "cell_type": "markdown",
   "id": "ef242e6a-6f3e-49d5-a588-8650ab3b2eae",
   "metadata": {},
   "source": [
    "5.Importerror:- In Python, ImportError occurs when the Python program tries to import module which \n",
    "does not exist in the private table. This exception can be avoided using exception handling using try and except blocks.\n",
    "\n",
    "*Modulenotdfound:- this error occurs when you're trying to access or use a module that cannot be found. In the case of the title, the \"module named Python\" cannot be found. Python here can be any module."
   ]
  },
  {
   "cell_type": "code",
   "execution_count": null,
   "id": "8f128f2e-d339-4cbb-a1ad-a6d1f632728d",
   "metadata": {},
   "outputs": [],
   "source": [
    "6. Best practice for exception handling:-\n",
    "a. Use Exceptions for Exceptional Cases\n",
    "b. Don’t Swallow the Exception\n",
    "c. Catch Specific Exceptions\n",
    "d.  Always Clean Up Resources in a Finally Block\n",
    "e.  Avoid Raising Generic Exceptions"
   ]
  }
 ],
 "metadata": {
  "kernelspec": {
   "display_name": "Python 3 (ipykernel)",
   "language": "python",
   "name": "python3"
  },
  "language_info": {
   "codemirror_mode": {
    "name": "ipython",
    "version": 3
   },
   "file_extension": ".py",
   "mimetype": "text/x-python",
   "name": "python",
   "nbconvert_exporter": "python",
   "pygments_lexer": "ipython3",
   "version": "3.10.8"
  }
 },
 "nbformat": 4,
 "nbformat_minor": 5
}
